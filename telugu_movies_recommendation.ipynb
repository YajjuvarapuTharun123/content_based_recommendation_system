{
 "cells": [
  {
   "cell_type": "code",
   "execution_count": 1,
   "id": "dd7e5a1e-ac2a-439b-9581-28d5f22c1679",
   "metadata": {},
   "outputs": [],
   "source": [
    "import pandas as pd\n",
    "import matplotlib.pyplot as plt\n",
    "import seaborn as sns\n",
    "from sklearn.feature_extraction.text import TfidfVectorizer\n",
    "from sklearn.metrics.pairwise import cosine_similarity"
   ]
  },
  {
   "cell_type": "code",
   "execution_count": 2,
   "id": "3a432d90-13f8-498e-b6c7-dbe82904609f",
   "metadata": {},
   "outputs": [],
   "source": [
    "df = pd.read_csv('movies_recommendation.csv')"
   ]
  },
  {
   "cell_type": "code",
   "execution_count": 3,
   "id": "3e428486-7720-4e51-a765-d25b1bad4f1c",
   "metadata": {},
   "outputs": [
    {
     "data": {
      "text/html": [
       "<div>\n",
       "<style scoped>\n",
       "    .dataframe tbody tr th:only-of-type {\n",
       "        vertical-align: middle;\n",
       "    }\n",
       "\n",
       "    .dataframe tbody tr th {\n",
       "        vertical-align: top;\n",
       "    }\n",
       "\n",
       "    .dataframe thead th {\n",
       "        text-align: right;\n",
       "    }\n",
       "</style>\n",
       "<table border=\"1\" class=\"dataframe\">\n",
       "  <thead>\n",
       "    <tr style=\"text-align: right;\">\n",
       "      <th></th>\n",
       "      <th>title</th>\n",
       "      <th>genre</th>\n",
       "      <th>image</th>\n",
       "    </tr>\n",
       "  </thead>\n",
       "  <tbody>\n",
       "    <tr>\n",
       "      <th>0</th>\n",
       "      <td>Arjun Reddy</td>\n",
       "      <td>Romance</td>\n",
       "      <td>img\\arjun_reddy.jpg</td>\n",
       "    </tr>\n",
       "    <tr>\n",
       "      <th>1</th>\n",
       "      <td>Eega</td>\n",
       "      <td>Fantasy</td>\n",
       "      <td>img\\eega.jpeg</td>\n",
       "    </tr>\n",
       "    <tr>\n",
       "      <th>2</th>\n",
       "      <td>Magadheera</td>\n",
       "      <td>Action</td>\n",
       "      <td>img\\magadherra.jpeg</td>\n",
       "    </tr>\n",
       "    <tr>\n",
       "      <th>3</th>\n",
       "      <td>Baahubali: The Beginning</td>\n",
       "      <td>Action</td>\n",
       "      <td>img\\bahubali1.jpeg</td>\n",
       "    </tr>\n",
       "    <tr>\n",
       "      <th>4</th>\n",
       "      <td>Baahubali: The Conclusion</td>\n",
       "      <td>Action</td>\n",
       "      <td>img\\bahubali2.jpeg</td>\n",
       "    </tr>\n",
       "  </tbody>\n",
       "</table>\n",
       "</div>"
      ],
      "text/plain": [
       "                       title    genre                image\n",
       "0                Arjun Reddy  Romance  img\\arjun_reddy.jpg\n",
       "1                       Eega  Fantasy        img\\eega.jpeg\n",
       "2                 Magadheera   Action  img\\magadherra.jpeg\n",
       "3   Baahubali: The Beginning   Action   img\\bahubali1.jpeg\n",
       "4  Baahubali: The Conclusion   Action   img\\bahubali2.jpeg"
      ]
     },
     "execution_count": 3,
     "metadata": {},
     "output_type": "execute_result"
    }
   ],
   "source": [
    "df.head()"
   ]
  },
  {
   "cell_type": "code",
   "execution_count": 4,
   "id": "94900c64-c691-4690-8837-bd1487a1bb8c",
   "metadata": {},
   "outputs": [
    {
     "data": {
      "text/plain": [
       "(31, 3)"
      ]
     },
     "execution_count": 4,
     "metadata": {},
     "output_type": "execute_result"
    }
   ],
   "source": [
    "df.shape"
   ]
  },
  {
   "cell_type": "code",
   "execution_count": 5,
   "id": "95dad5f3-87ca-4486-9513-5b4a0389cb98",
   "metadata": {},
   "outputs": [
    {
     "name": "stdout",
     "output_type": "stream",
     "text": [
      "<class 'pandas.core.frame.DataFrame'>\n",
      "RangeIndex: 31 entries, 0 to 30\n",
      "Data columns (total 3 columns):\n",
      " #   Column  Non-Null Count  Dtype \n",
      "---  ------  --------------  ----- \n",
      " 0   title   31 non-null     object\n",
      " 1   genre   31 non-null     object\n",
      " 2   image   31 non-null     object\n",
      "dtypes: object(3)\n",
      "memory usage: 876.0+ bytes\n"
     ]
    }
   ],
   "source": [
    "df.info()"
   ]
  },
  {
   "cell_type": "code",
   "execution_count": 6,
   "id": "1c86a0d2-a811-4c19-be29-b86a97890b29",
   "metadata": {},
   "outputs": [
    {
     "data": {
      "text/plain": [
       "title    0\n",
       "genre    0\n",
       "image    0\n",
       "dtype: int64"
      ]
     },
     "execution_count": 6,
     "metadata": {},
     "output_type": "execute_result"
    }
   ],
   "source": [
    "df.isna().sum()"
   ]
  },
  {
   "cell_type": "code",
   "execution_count": 7,
   "id": "a3ecff39-fa09-4b77-882a-6b8bd076f4cc",
   "metadata": {},
   "outputs": [
    {
     "data": {
      "text/plain": [
       "0"
      ]
     },
     "execution_count": 7,
     "metadata": {},
     "output_type": "execute_result"
    }
   ],
   "source": [
    "df.duplicated().sum()"
   ]
  },
  {
   "cell_type": "code",
   "execution_count": 8,
   "id": "4d27f65f-f6d0-4247-8c88-671a0c5f1328",
   "metadata": {},
   "outputs": [
    {
     "data": {
      "text/html": [
       "<div>\n",
       "<style scoped>\n",
       "    .dataframe tbody tr th:only-of-type {\n",
       "        vertical-align: middle;\n",
       "    }\n",
       "\n",
       "    .dataframe tbody tr th {\n",
       "        vertical-align: top;\n",
       "    }\n",
       "\n",
       "    .dataframe thead th {\n",
       "        text-align: right;\n",
       "    }\n",
       "</style>\n",
       "<table border=\"1\" class=\"dataframe\">\n",
       "  <thead>\n",
       "    <tr style=\"text-align: right;\">\n",
       "      <th></th>\n",
       "      <th>title</th>\n",
       "      <th>genre</th>\n",
       "      <th>image</th>\n",
       "    </tr>\n",
       "  </thead>\n",
       "  <tbody>\n",
       "    <tr>\n",
       "      <th>0</th>\n",
       "      <td>Arjun Reddy</td>\n",
       "      <td>Romance</td>\n",
       "      <td>img\\arjun_reddy.jpg</td>\n",
       "    </tr>\n",
       "    <tr>\n",
       "      <th>1</th>\n",
       "      <td>Eega</td>\n",
       "      <td>Fantasy</td>\n",
       "      <td>img\\eega.jpeg</td>\n",
       "    </tr>\n",
       "    <tr>\n",
       "      <th>2</th>\n",
       "      <td>Magadheera</td>\n",
       "      <td>Action</td>\n",
       "      <td>img\\magadherra.jpeg</td>\n",
       "    </tr>\n",
       "    <tr>\n",
       "      <th>3</th>\n",
       "      <td>Baahubali: The Beginning</td>\n",
       "      <td>Action</td>\n",
       "      <td>img\\bahubali1.jpeg</td>\n",
       "    </tr>\n",
       "    <tr>\n",
       "      <th>4</th>\n",
       "      <td>Baahubali: The Conclusion</td>\n",
       "      <td>Action</td>\n",
       "      <td>img\\bahubali2.jpeg</td>\n",
       "    </tr>\n",
       "  </tbody>\n",
       "</table>\n",
       "</div>"
      ],
      "text/plain": [
       "                       title    genre                image\n",
       "0                Arjun Reddy  Romance  img\\arjun_reddy.jpg\n",
       "1                       Eega  Fantasy        img\\eega.jpeg\n",
       "2                 Magadheera   Action  img\\magadherra.jpeg\n",
       "3   Baahubali: The Beginning   Action   img\\bahubali1.jpeg\n",
       "4  Baahubali: The Conclusion   Action   img\\bahubali2.jpeg"
      ]
     },
     "execution_count": 8,
     "metadata": {},
     "output_type": "execute_result"
    }
   ],
   "source": [
    "df.head()"
   ]
  },
  {
   "cell_type": "code",
   "execution_count": 9,
   "id": "5aa0d9b3-13f7-4eac-8898-239521404643",
   "metadata": {},
   "outputs": [
    {
     "data": {
      "text/plain": [
       "<Axes: xlabel='genre', ylabel='count'>"
      ]
     },
     "execution_count": 9,
     "metadata": {},
     "output_type": "execute_result"
    },
    {
     "data": {
      "image/png": "[encoded data removed]",
      "text/plain": [
       "<Figure size 1000x500 with 1 Axes>"
      ]
     },
     "metadata": {},
     "output_type": "display_data"
    }
   ],
   "source": [
    "plt.figure(figsize = (10, 5))\n",
    "sns.countplot(x = 'genre', data = df)"
   ]
  },
  {
   "cell_type": "code",
   "execution_count": 10,
   "id": "6fa95636-2950-41db-8b31-0632d3c9bdde",
   "metadata": {},
   "outputs": [],
   "source": [
    "vector = TfidfVectorizer(stop_words = 'english')\n",
    "cosine_vectores = vector.fit_transform(df['genre'])"
   ]
  },
  {
   "cell_type": "code",
   "execution_count": 11,
   "id": "5663ca66-9ac2-449d-9178-11fc3046a319",
   "metadata": {},
   "outputs": [],
   "source": [
    "cosin_sim = cosine_similarity(cosine_vectores)"
   ]
  },
  {
   "cell_type": "code",
   "execution_count": 12,
   "id": "63331f6f-61dc-4188-a2d5-c0b235bc5703",
   "metadata": {},
   "outputs": [],
   "source": [
    "def get_recommendations(title):\n",
    "    idx = df.index[df['title'] == title][0]\n",
    "    sim_scores = list(enumerate(cosin_sim[idx]))\n",
    "    sim_scores = sorted(sim_scores, key=lambda x: x[1], reverse=True)\n",
    "    sim_scores = sim_scores[1:6] # Get 5 most similar movies\n",
    "    movie_indices = [i[0] for i in sim_scores]\n",
    "    return df['title'].loc[movie_indices]"
   ]
  },
  {
   "cell_type": "code",
   "execution_count": 13,
   "id": "e9519f62-cf1e-43a3-9bee-f1ca394ae713",
   "metadata": {},
   "outputs": [
    {
     "data": {
      "text/plain": [
       "0                  Arjun Reddy\n",
       "2                   Magadheera\n",
       "3     Baahubali: The Beginning\n",
       "4    Baahubali: The Conclusion\n",
       "5                   Malliswari\n",
       "Name: title, dtype: object"
      ]
     },
     "execution_count": 13,
     "metadata": {},
     "output_type": "execute_result"
    }
   ],
   "source": [
    "get_recommendations('Eega')"
   ]
  },
  {
   "cell_type": "code",
   "execution_count": null,
   "id": "6169f9fa-66da-4cff-bca9-662d1d007764",
   "metadata": {},
   "outputs": [],
   "source": []
  }
 ],
 "metadata": {
  "kernelspec": {
   "display_name": "Python 3 (ipykernel)",
   "language": "python",
   "name": "python3"
  },
  "language_info": {
   "codemirror_mode": {
    "name": "ipython",
    "version": 3
   },
   "file_extension": ".py",
   "mimetype": "text/x-python",
   "name": "python",
   "nbconvert_exporter": "python",
   "pygments_lexer": "ipython3",
   "version": "3.12.4"
  }
 },
 "nbformat": 4,
 "nbformat_minor": 5
}
